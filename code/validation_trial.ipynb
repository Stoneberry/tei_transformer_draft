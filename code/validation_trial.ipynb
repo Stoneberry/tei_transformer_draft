{
 "cells": [
  {
   "cell_type": "code",
   "execution_count": 29,
   "metadata": {},
   "outputs": [],
   "source": [
    "# import lxml\n",
    "from lxml import etree\n",
    "from lxml import objectify"
   ]
  },
  {
   "cell_type": "code",
   "execution_count": 54,
   "metadata": {},
   "outputs": [],
   "source": [
    "import os\n",
    "import json"
   ]
  },
  {
   "cell_type": "code",
   "execution_count": 89,
   "metadata": {},
   "outputs": [],
   "source": [
    "class Validator:\n",
    "    \n",
    "    def __init__(self, scenario=False):\n",
    "        self.__load_config_file()\n",
    "        \n",
    "        if scenario == \"dictionary\":\n",
    "            schema_name = \"dictionary_schema_path\"\n",
    "        elif scenario == \"drama\":\n",
    "            schema_name = \"drame_schema_path\"\n",
    "        else:\n",
    "            schema_name = \"basic_schema_path\"\n",
    "        self.schema = self.load_rng_schema(self.config[schema_name])\n",
    "        \n",
    "    @staticmethod\n",
    "    def read_json(path):\n",
    "        with open(path) as file:\n",
    "            data = json.load(file)\n",
    "        return data\n",
    "        \n",
    "    def __load_config_file(self):\n",
    "        path = os.path.join('data', 'config.json') \n",
    "        self.config = self.read_json(path)\n",
    "\n",
    "    def __check_file_extension(self, path, extension):\n",
    "        fname, fextension = os.path.splitext(path)\n",
    "        if fextension != extension:\n",
    "            raise ValueError(\"Wrong file extension\")\n",
    "        return True\n",
    "\n",
    "    def load_rng_schema(self, schema_path):\n",
    "        if self.__check_file_extension(schema_path, \".rng\"):\n",
    "            schema_doc = etree.parse(schema_path)\n",
    "            self.schema = etree.RelaxNG(schema_doc)\n",
    "\n",
    "    def validate(self, xml_path):\n",
    "        xml_doc = etree.parse(xml_path)\n",
    "        result = self.schema.validate(xml_doc)\n",
    "        return result\n",
    "\n"
   ]
  },
  {
   "cell_type": "markdown",
   "metadata": {},
   "source": [
    "# Tests"
   ]
  },
  {
   "cell_type": "code",
   "execution_count": 99,
   "metadata": {},
   "outputs": [],
   "source": [
    "def basic_test(v, dir_path):\n",
    "    for filename in os.listdir(dir_path):\n",
    "        if filename != \".DS_Store\":\n",
    "            file_path = os.path.join(dir_path, filename)\n",
    "            try:\n",
    "                res = v.validate(file_path)\n",
    "                print(output.format(res, filename))\n",
    "            except:\n",
    "                print(output.format('Error', filename))"
   ]
  },
  {
   "cell_type": "markdown",
   "metadata": {},
   "source": [
    "### test 1"
   ]
  },
  {
   "cell_type": "code",
   "execution_count": 100,
   "metadata": {},
   "outputs": [
    {
     "name": "stdout",
     "output_type": "stream",
     "text": [
      "RESULT Error FOR file afinogenov-mashenka.xml\n",
      "RESULT Error FOR file afinogenov_changed_namespace.xml\n",
      "RESULT Error FOR file afinogenov_extra_tag.xml\n",
      "RESULT Error FOR file afinogenov_new_namespace.xml\n",
      "RESULT Error FOR file afinogenov_new_tag.xml\n",
      "RESULT Error FOR file afinogenov_no_schema.xml\n",
      "RESULT Error FOR file afinogenov_no_start.xml\n"
     ]
    }
   ],
   "source": [
    "v = Validator()\n",
    "dir_path = os.path.join('data', 'teis')\n",
    "output = 'RESULT {} FOR file {}'\n",
    "basic_test(v, dir_path)"
   ]
  },
  {
   "cell_type": "markdown",
   "metadata": {},
   "source": [
    "### test 2"
   ]
  },
  {
   "cell_type": "code",
   "execution_count": 101,
   "metadata": {},
   "outputs": [
    {
     "name": "stdout",
     "output_type": "stream",
     "text": [
      "RESULT Error FOR file afinogenov-mashenka.xml\n",
      "RESULT Error FOR file afinogenov_changed_namespace.xml\n",
      "RESULT Error FOR file afinogenov_extra_tag.xml\n",
      "RESULT Error FOR file afinogenov_new_namespace.xml\n",
      "RESULT Error FOR file afinogenov_new_tag.xml\n",
      "RESULT Error FOR file afinogenov_no_schema.xml\n",
      "RESULT Error FOR file afinogenov_no_start.xml\n"
     ]
    }
   ],
   "source": [
    "v = Validator(scenario=\"drama\")\n",
    "basic_test(v, dir_path)"
   ]
  },
  {
   "cell_type": "markdown",
   "metadata": {},
   "source": [
    "### test 3"
   ]
  },
  {
   "cell_type": "code",
   "execution_count": 102,
   "metadata": {},
   "outputs": [
    {
     "name": "stdout",
     "output_type": "stream",
     "text": [
      "RESULT True FOR file afinogenov-mashenka.xml\n",
      "RESULT False FOR file afinogenov_changed_namespace.xml\n",
      "RESULT Error FOR file afinogenov_extra_tag.xml\n",
      "RESULT Error FOR file afinogenov_new_namespace.xml\n",
      "RESULT Error FOR file afinogenov_new_tag.xml\n",
      "RESULT True FOR file afinogenov_no_schema.xml\n",
      "RESULT True FOR file afinogenov_no_start.xml\n"
     ]
    }
   ],
   "source": [
    "v = Validator()\n",
    "schema_path = \"data/schemas/schema_dracor.rng\"\n",
    "v.load_rng_schema(schema_path)\n",
    "basic_test(v, dir_path)"
   ]
  },
  {
   "cell_type": "code",
   "execution_count": null,
   "metadata": {},
   "outputs": [],
   "source": []
  }
 ],
 "metadata": {
  "kernelspec": {
   "display_name": "Python 3",
   "language": "python",
   "name": "python3"
  },
  "language_info": {
   "codemirror_mode": {
    "name": "ipython",
    "version": 3
   },
   "file_extension": ".py",
   "mimetype": "text/x-python",
   "name": "python",
   "nbconvert_exporter": "python",
   "pygments_lexer": "ipython3",
   "version": "3.6.5"
  }
 },
 "nbformat": 4,
 "nbformat_minor": 2
}
