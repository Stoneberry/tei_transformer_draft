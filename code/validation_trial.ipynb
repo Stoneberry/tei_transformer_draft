{
 "cells": [
  {
   "cell_type": "code",
   "execution_count": 5,
   "metadata": {},
   "outputs": [],
   "source": [
    "# import lxml\n",
    "from lxml import etree"
   ]
  },
  {
   "cell_type": "code",
   "execution_count": 6,
   "metadata": {},
   "outputs": [],
   "source": [
    "class Validator:\n",
    "\n",
    "    def __init__(self, schema_path):\n",
    "        schema_doc = etree.parse(schema_path)\n",
    "        self.RNG_schema = etree.RelaxNG(schema_doc)\n",
    "\n",
    "    def validate(self, xml_path):\n",
    "        xml_doc = etree.parse(xml_path)\n",
    "        result = self.RNG_schema.validate(xml_doc)\n",
    "        return result"
   ]
  },
  {
   "cell_type": "code",
   "execution_count": 12,
   "metadata": {},
   "outputs": [],
   "source": [
    "path_schema = \"schema (1).rng\"\n",
    "path_cor_data = \"afinogenov-mashenka.xml\"\n",
    "path_incor_data = \"wrong-afinogenov-mashenka 2.xml\""
   ]
  },
  {
   "cell_type": "code",
   "execution_count": 13,
   "metadata": {},
   "outputs": [],
   "source": [
    "v = Validator(path_schema)"
   ]
  },
  {
   "cell_type": "code",
   "execution_count": 14,
   "metadata": {},
   "outputs": [
    {
     "data": {
      "text/plain": [
       "True"
      ]
     },
     "execution_count": 14,
     "metadata": {},
     "output_type": "execute_result"
    }
   ],
   "source": [
    "v.validate(path_cor_data)"
   ]
  },
  {
   "cell_type": "code",
   "execution_count": 15,
   "metadata": {},
   "outputs": [
    {
     "ename": "XMLSyntaxError",
     "evalue": "Opening and ending tag mismatch: titleStmt line 7 and title, line 12, column 94 (wrong-afinogenov-mashenka 2.xml, line 12)",
     "output_type": "error",
     "traceback": [
      "Traceback \u001b[0;36m(most recent call last)\u001b[0m:\n",
      "  File \u001b[1;32m\"/Library/Frameworks/Python.framework/Versions/3.6/lib/python3.6/site-packages/IPython/core/interactiveshell.py\"\u001b[0m, line \u001b[1;32m3265\u001b[0m, in \u001b[1;35mrun_code\u001b[0m\n    exec(code_obj, self.user_global_ns, self.user_ns)\n",
      "  File \u001b[1;32m\"<ipython-input-15-b009c1644e45>\"\u001b[0m, line \u001b[1;32m1\u001b[0m, in \u001b[1;35m<module>\u001b[0m\n    v.validate(path_incor_data)\n",
      "  File \u001b[1;32m\"<ipython-input-6-794b8bd0480b>\"\u001b[0m, line \u001b[1;32m8\u001b[0m, in \u001b[1;35mvalidate\u001b[0m\n    xml_doc = etree.parse(xml_path)\n",
      "  File \u001b[1;32m\"src/lxml/etree.pyx\"\u001b[0m, line \u001b[1;32m3426\u001b[0m, in \u001b[1;35mlxml.etree.parse\u001b[0m\n",
      "  File \u001b[1;32m\"src/lxml/parser.pxi\"\u001b[0m, line \u001b[1;32m1839\u001b[0m, in \u001b[1;35mlxml.etree._parseDocument\u001b[0m\n",
      "  File \u001b[1;32m\"src/lxml/parser.pxi\"\u001b[0m, line \u001b[1;32m1865\u001b[0m, in \u001b[1;35mlxml.etree._parseDocumentFromURL\u001b[0m\n",
      "  File \u001b[1;32m\"src/lxml/parser.pxi\"\u001b[0m, line \u001b[1;32m1769\u001b[0m, in \u001b[1;35mlxml.etree._parseDocFromFile\u001b[0m\n",
      "  File \u001b[1;32m\"src/lxml/parser.pxi\"\u001b[0m, line \u001b[1;32m1162\u001b[0m, in \u001b[1;35mlxml.etree._BaseParser._parseDocFromFile\u001b[0m\n",
      "  File \u001b[1;32m\"src/lxml/parser.pxi\"\u001b[0m, line \u001b[1;32m600\u001b[0m, in \u001b[1;35mlxml.etree._ParserContext._handleParseResultDoc\u001b[0m\n",
      "  File \u001b[1;32m\"src/lxml/parser.pxi\"\u001b[0m, line \u001b[1;32m710\u001b[0m, in \u001b[1;35mlxml.etree._handleParseResult\u001b[0m\n",
      "\u001b[0;36m  File \u001b[0;32m\"src/lxml/parser.pxi\"\u001b[0;36m, line \u001b[0;32m639\u001b[0;36m, in \u001b[0;35mlxml.etree._raiseParseError\u001b[0;36m\u001b[0m\n",
      "\u001b[0;36m  File \u001b[0;32m\"/Users/Stoneberry/Desktop/wrong-afinogenov-mashenka 2.xml\"\u001b[0;36m, line \u001b[0;32m12\u001b[0m\n\u001b[0;31m    <author key=\"wikidata:Q729569\">Афиногенов, Александр Николаевич</author></title>\u001b[0m\n\u001b[0m                                                                                    \n^\u001b[0m\n\u001b[0;31mXMLSyntaxError\u001b[0m\u001b[0;31m:\u001b[0m Opening and ending tag mismatch: titleStmt line 7 and title, line 12, column 94\n"
     ]
    }
   ],
   "source": [
    "v.validate(path_incor_data)"
   ]
  },
  {
   "cell_type": "code",
   "execution_count": null,
   "metadata": {},
   "outputs": [],
   "source": []
  }
 ],
 "metadata": {
  "kernelspec": {
   "display_name": "Python 3",
   "language": "python",
   "name": "python3"
  },
  "language_info": {
   "codemirror_mode": {
    "name": "ipython",
    "version": 3
   },
   "file_extension": ".py",
   "mimetype": "text/x-python",
   "name": "python",
   "nbconvert_exporter": "python",
   "pygments_lexer": "ipython3",
   "version": "3.6.5"
  }
 },
 "nbformat": 4,
 "nbformat_minor": 2
}
